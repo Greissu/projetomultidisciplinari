{
 "cells": [
  {
   "cell_type": "markdown",
   "id": "abd11f27",
   "metadata": {},
   "source": [
    "# Projeto Multidisciplinar I do curso Formação Plena em Ciência de Dados [TEORIA + PRÁTICA 2023]\n",
    "\n",
    "Projeto Multidisciplinar I da aula 23, presente no curso Formação Plena em Ciência de Dados [TEORIA + PRÁTICA 2023] disponível na plataforma Udemy."
   ]
  },
  {
   "cell_type": "markdown",
   "id": "996ecd1c",
   "metadata": {},
   "source": [
    "## Apresentação e discussão\n",
    "\n",
    "O Projeto Multidisciplinar I consiste na simulação de dados envolvendo pesos e alturas de indivíduos, calculando o IMC (índice de Massa Corporal) e relacionando com dados simulados sobre existência de problemas cardíacos. A simulação deverá contar com dados pseudoaleatórios gerados por simulação computacional e deverá haver correspondência entre problemas cardiácos com a medida do IMC. Ou seja, iremos supor que exista uma correspondência óbvia entre as medidas (modelada matematicamente por equção e coeificentes arbitrariamente definidos). Para cada sexo (sendo eles definidos de forma aleatória).\n",
    "\n",
    "Você, portanto, simulará via randomização (aleatoriedade) as alturas dentro de uma faixa bem definida. Em seguida, aplicará uma equação que determine, com algum grau de aleatoriedade, os pesos dos indivíduos. Logo depois, calculará o IMC e definirá para cada indivíduo a existência (sim ou não) de problemas cardiácos, ambos com algum grau mnimo de correspondência com o IMC.\n",
    "\n",
    "Ao final, faça as análises necessárias com medidas de dispersão e de tendência central. Crie as funções para tal. E interprete os IMCs obtido conforme WHO (Organização Mundial da Saúde).\n",
    "\n",
    "Os dados devem estar reunidos em uma tabela. Todas as técnicas aplicadas aqui são vistas na Aula 22."
   ]
  },
  {
   "cell_type": "markdown",
   "id": "1dcf1191",
   "metadata": {},
   "source": [
    "## Gerando os dados simulados"
   ]
  },
  {
   "cell_type": "code",
   "execution_count": 3,
   "id": "8a14d40b",
   "metadata": {},
   "outputs": [],
   "source": [
    "n = 3000 #tamanho da amostra"
   ]
  },
  {
   "cell_type": "code",
   "execution_count": 4,
   "id": "b4dabe51",
   "metadata": {},
   "outputs": [],
   "source": [
    "#Gerando dados de média 1.73 e desvio padrão 0.30, sendo 3000 pessoas em uma distribuição normalizada.\n",
    "\n",
    "import numpy\n",
    "altura = numpy.random.normal(1.73, 0.30, n)\n",
    "altura = altura.tolist()"
   ]
  },
  {
   "cell_type": "code",
   "execution_count": 5,
   "id": "bf50d936",
   "metadata": {},
   "outputs": [
    {
     "data": {
      "text/latex": [
       "$\\displaystyle a x + c$"
      ],
      "text/plain": [
       "a*x + c"
      ]
     },
     "execution_count": 5,
     "metadata": {},
     "output_type": "execute_result"
    }
   ],
   "source": [
    "#Escrevendo a função a ser usada para gerar os pesos\n",
    "from sympy import *\n",
    "coeficiente_g = symbols(\"a\") #coeficiente a\n",
    "var_1 = symbols(\"x\") #variavel x da função linear\n",
    "const_1 = symbols(\"c\") #constante da função\n",
    "peso_i = coeficiente_g*var_1+const_1\n",
    "#const_1 varia no intervalo de -5 a 5 e segue distriuição uniforme conforme exemplo do instrutor\n",
    "#coeficiente_g será gerado aleatoriamente entre 47 e 51 para tentativa de maior diversificação nos valores dos pesos\n",
    "peso_i"
   ]
  },
  {
   "cell_type": "code",
   "execution_count": 6,
   "id": "1fc5498f",
   "metadata": {},
   "outputs": [],
   "source": [
    "from random import *\n",
    "pesos = []\n",
    "\n",
    "for i in altura:\n",
    "    a = round(float(uniform(-5, 5)), 2)\n",
    "    b = i*numpy.random.normal(49, 2)\n",
    "    c = a + b\n",
    "    pesos.append(c)"
   ]
  },
  {
   "cell_type": "code",
   "execution_count": 7,
   "id": "bbe86416",
   "metadata": {},
   "outputs": [
    {
     "data": {
      "text/latex": [
       "$\\displaystyle \\frac{peso}{altura^{2}}$"
      ],
      "text/plain": [
       "peso/altura**2"
      ]
     },
     "execution_count": 7,
     "metadata": {},
     "output_type": "execute_result"
    }
   ],
   "source": [
    "#formula do imc\n",
    "peso1, altura1 = symbols(['peso', 'altura'])\n",
    "IMC_formula = peso1 / (altura1**2)\n",
    "IMC_formula"
   ]
  },
  {
   "cell_type": "code",
   "execution_count": 8,
   "id": "48792d3e",
   "metadata": {},
   "outputs": [],
   "source": [
    "IMC = []\n",
    "\n",
    "for i,j in zip(altura, pesos):\n",
    "    e = j / (i**2)\n",
    "    e = round(e, 2)\n",
    "    IMC.append(e)"
   ]
  },
  {
   "cell_type": "code",
   "execution_count": 9,
   "id": "72da91c2",
   "metadata": {},
   "outputs": [],
   "source": [
    "SEXO = []\n",
    "\n",
    "for i in range(n):\n",
    "    valor = numpy.random.uniform(0,1)\n",
    "    if valor > 0.5:\n",
    "        SEXO.append(\"F\")\n",
    "    else:\n",
    "        SEXO.append(\"M\")"
   ]
  },
  {
   "cell_type": "markdown",
   "id": "f9e30c80",
   "metadata": {},
   "source": [
    "## Fazendo as associações"
   ]
  },
  {
   "cell_type": "code",
   "execution_count": 10,
   "id": "c10008e4",
   "metadata": {},
   "outputs": [],
   "source": [
    "CARDIACO = []\n",
    "\n",
    "for i in range(n):\n",
    "    if IMC[i] > 39.9:\n",
    "        CARDIACO.append(\"S\")\n",
    "    elif IMC[i] > 30 and IMC[i] < 39.9:\n",
    "        CARDIACO.append(\"T\")\n",
    "    else:\n",
    "        CARDIACO.append(\"N\")"
   ]
  },
  {
   "cell_type": "code",
   "execution_count": 11,
   "id": "70cb19e6",
   "metadata": {},
   "outputs": [],
   "source": [
    "tabela = altura, pesos, IMC, SEXO, CARDIACO"
   ]
  },
  {
   "cell_type": "code",
   "execution_count": 12,
   "id": "2d834f3b",
   "metadata": {},
   "outputs": [],
   "source": [
    "import pandas\n",
    "df = pandas.DataFrame(tabela, index=[\"Altura\", \"Peso\", \"IMC\", \"Sexo\", \"Cardiaco\"]).T"
   ]
  },
  {
   "cell_type": "code",
   "execution_count": 13,
   "id": "32f27aec",
   "metadata": {},
   "outputs": [
    {
     "data": {
      "text/html": [
       "<div>\n",
       "<style scoped>\n",
       "    .dataframe tbody tr th:only-of-type {\n",
       "        vertical-align: middle;\n",
       "    }\n",
       "\n",
       "    .dataframe tbody tr th {\n",
       "        vertical-align: top;\n",
       "    }\n",
       "\n",
       "    .dataframe thead th {\n",
       "        text-align: right;\n",
       "    }\n",
       "</style>\n",
       "<table border=\"1\" class=\"dataframe\">\n",
       "  <thead>\n",
       "    <tr style=\"text-align: right;\">\n",
       "      <th></th>\n",
       "      <th>Altura</th>\n",
       "      <th>Peso</th>\n",
       "      <th>IMC</th>\n",
       "      <th>Sexo</th>\n",
       "      <th>Cardiaco</th>\n",
       "    </tr>\n",
       "  </thead>\n",
       "  <tbody>\n",
       "    <tr>\n",
       "      <th>0</th>\n",
       "      <td>2.007505</td>\n",
       "      <td>101.995142</td>\n",
       "      <td>25.31</td>\n",
       "      <td>M</td>\n",
       "      <td>N</td>\n",
       "    </tr>\n",
       "    <tr>\n",
       "      <th>1</th>\n",
       "      <td>1.985197</td>\n",
       "      <td>98.015834</td>\n",
       "      <td>24.87</td>\n",
       "      <td>F</td>\n",
       "      <td>N</td>\n",
       "    </tr>\n",
       "    <tr>\n",
       "      <th>2</th>\n",
       "      <td>1.513134</td>\n",
       "      <td>74.170006</td>\n",
       "      <td>32.39</td>\n",
       "      <td>M</td>\n",
       "      <td>T</td>\n",
       "    </tr>\n",
       "    <tr>\n",
       "      <th>3</th>\n",
       "      <td>1.502914</td>\n",
       "      <td>75.002317</td>\n",
       "      <td>33.21</td>\n",
       "      <td>F</td>\n",
       "      <td>T</td>\n",
       "    </tr>\n",
       "    <tr>\n",
       "      <th>4</th>\n",
       "      <td>2.286443</td>\n",
       "      <td>107.933676</td>\n",
       "      <td>20.65</td>\n",
       "      <td>M</td>\n",
       "      <td>N</td>\n",
       "    </tr>\n",
       "    <tr>\n",
       "      <th>...</th>\n",
       "      <td>...</td>\n",
       "      <td>...</td>\n",
       "      <td>...</td>\n",
       "      <td>...</td>\n",
       "      <td>...</td>\n",
       "    </tr>\n",
       "    <tr>\n",
       "      <th>2995</th>\n",
       "      <td>2.16359</td>\n",
       "      <td>103.226061</td>\n",
       "      <td>22.05</td>\n",
       "      <td>M</td>\n",
       "      <td>N</td>\n",
       "    </tr>\n",
       "    <tr>\n",
       "      <th>2996</th>\n",
       "      <td>1.73916</td>\n",
       "      <td>76.048119</td>\n",
       "      <td>25.14</td>\n",
       "      <td>F</td>\n",
       "      <td>N</td>\n",
       "    </tr>\n",
       "    <tr>\n",
       "      <th>2997</th>\n",
       "      <td>2.103869</td>\n",
       "      <td>98.343258</td>\n",
       "      <td>22.22</td>\n",
       "      <td>M</td>\n",
       "      <td>N</td>\n",
       "    </tr>\n",
       "    <tr>\n",
       "      <th>2998</th>\n",
       "      <td>1.985689</td>\n",
       "      <td>93.399716</td>\n",
       "      <td>23.69</td>\n",
       "      <td>M</td>\n",
       "      <td>N</td>\n",
       "    </tr>\n",
       "    <tr>\n",
       "      <th>2999</th>\n",
       "      <td>1.912684</td>\n",
       "      <td>90.182216</td>\n",
       "      <td>24.65</td>\n",
       "      <td>F</td>\n",
       "      <td>N</td>\n",
       "    </tr>\n",
       "  </tbody>\n",
       "</table>\n",
       "<p>3000 rows × 5 columns</p>\n",
       "</div>"
      ],
      "text/plain": [
       "        Altura        Peso    IMC Sexo Cardiaco\n",
       "0     2.007505  101.995142  25.31    M        N\n",
       "1     1.985197   98.015834  24.87    F        N\n",
       "2     1.513134   74.170006  32.39    M        T\n",
       "3     1.502914   75.002317  33.21    F        T\n",
       "4     2.286443  107.933676  20.65    M        N\n",
       "...        ...         ...    ...  ...      ...\n",
       "2995   2.16359  103.226061  22.05    M        N\n",
       "2996   1.73916   76.048119  25.14    F        N\n",
       "2997  2.103869   98.343258  22.22    M        N\n",
       "2998  1.985689   93.399716  23.69    M        N\n",
       "2999  1.912684   90.182216  24.65    F        N\n",
       "\n",
       "[3000 rows x 5 columns]"
      ]
     },
     "execution_count": 13,
     "metadata": {},
     "output_type": "execute_result"
    }
   ],
   "source": [
    "df"
   ]
  },
  {
   "cell_type": "markdown",
   "id": "1d6d0442",
   "metadata": {},
   "source": [
    "## Medidas de tendência central"
   ]
  },
  {
   "cell_type": "code",
   "execution_count": 36,
   "id": "b1c6d475",
   "metadata": {},
   "outputs": [],
   "source": [
    "#Calculando a média de uma coluna na tabela\n",
    "def media(tabel):\n",
    "    soma = sum(tabel)\n",
    "    media = round(soma/len(tabel), 2)\n",
    "    return media"
   ]
  },
  {
   "cell_type": "code",
   "execution_count": 37,
   "id": "31dfc467",
   "metadata": {},
   "outputs": [
    {
     "name": "stdout",
     "output_type": "stream",
     "text": [
      "1.73\n",
      "84.57\n",
      "29.34\n"
     ]
    }
   ],
   "source": [
    "print(media(df.Altura))\n",
    "print(media(df.Peso))\n",
    "print(media(df.IMC))"
   ]
  },
  {
   "cell_type": "code",
   "execution_count": 16,
   "id": "9306b25e",
   "metadata": {},
   "outputs": [
    {
     "name": "stdout",
     "output_type": "stream",
     "text": [
      "1.7217309977945146\n",
      "84.22188617915427\n",
      "28.395\n"
     ]
    }
   ],
   "source": [
    "#calculando a mediana de uma coluna na tabela\n",
    "\n",
    "def mediana(tabela):\n",
    "    tabela = sorted(tabela)\n",
    "    index = (len(tabela)-1)//2\n",
    "    if len(tabela)%2:\n",
    "        print(tabela[index])\n",
    "    else:\n",
    "        print((tabela[index]+tabela[index+1])/2)\n",
    "\n",
    "mediana(df.Altura)\n",
    "mediana(df.Peso)\n",
    "mediana(df.IMC)"
   ]
  },
  {
   "cell_type": "code",
   "execution_count": 17,
   "id": "6dc1d400",
   "metadata": {},
   "outputs": [
    {
     "name": "stdout",
     "output_type": "stream",
     "text": [
      "1.4909450116395262\n",
      "72.53888095691612\n",
      "25.021853333333333\n"
     ]
    }
   ],
   "source": [
    "#media para 50% inferior de uma coluna\n",
    "\n",
    "def fiftyinf(tabela):\n",
    "    return numpy.mean(tabela.sort_values(ascending=True)[0:1500])\n",
    "\n",
    "print(fiftyinf(df.Altura))\n",
    "print(fiftyinf(df.Peso))\n"
   ]
  },
  {
   "cell_type": "code",
   "execution_count": 50,
   "id": "972d1883",
   "metadata": {},
   "outputs": [
    {
     "name": "stdout",
     "output_type": "stream",
     "text": [
      "1.9594262009459222\n",
      "96.61028316278372\n",
      "33.652573333333294\n"
     ]
    }
   ],
   "source": [
    "#media para 50% superior de uma coluna\n",
    "\n",
    "def fiftysup(tabela):\n",
    "    return numpy.mean(tabela.sort_values(ascending=True)[1500:n])\n",
    "\n",
    "print(fiftysup(df.Altura))\n",
    "print(fiftysup(df.Peso))"
   ]
  },
  {
   "cell_type": "code",
   "execution_count": 49,
   "id": "aaca6f05",
   "metadata": {},
   "outputs": [
    {
     "data": {
      "text/plain": [
       "33.457353333333394"
      ]
     },
     "execution_count": 49,
     "metadata": {},
     "output_type": "execute_result"
    }
   ],
   "source": [
    "#media do peso para 50% pessoas mais baixas\n",
    "\n",
    "#index = (len(tabela)-1)//2\n",
    "dfMenoresAlturas = df.sort_values(ascending=True, by=[\"Altura\"])[0:1500]\n",
    "numpy.mean(dfMenoresAlturas.IMC)"
   ]
  },
  {
   "cell_type": "code",
   "execution_count": 48,
   "id": "b55b88c2",
   "metadata": {},
   "outputs": [
    {
     "data": {
      "text/plain": [
       "25.217073333333314"
      ]
     },
     "execution_count": 48,
     "metadata": {},
     "output_type": "execute_result"
    }
   ],
   "source": [
    "#media do peso para 50% pessoas mais altas\n",
    "\n",
    "dfMaioresAlturas = dfOrdenadoAlturas[1500:n]\n",
    "numpy.mean(dfMaioresAlturas.IMC)"
   ]
  },
  {
   "cell_type": "code",
   "execution_count": 42,
   "id": "e85b9ccc",
   "metadata": {},
   "outputs": [
    {
     "name": "stdout",
     "output_type": "stream",
     "text": [
      "Variância: 0.08652994269790386, Desvio Padrão: 0.294159723106179\n"
     ]
    }
   ],
   "source": [
    "#variancia e desvio padrão de uma coluna\n",
    "\n",
    "def variancia_std(tabela):\n",
    "    variancia = 0\n",
    "    media_coluna = media(tabela)\n",
    "    for valor in tabela:\n",
    "        variancia += (valor - media_coluna)**2\n",
    "    variancia = variancia / (n - 1)\n",
    "    desvio = sqrt(variancia)\n",
    "    print(f'Variância: {variancia}, Desvio Padrão: {desvio}')\n",
    "\n",
    "variancia_std(df.Altura)"
   ]
  },
  {
   "cell_type": "markdown",
   "id": "d736e489",
   "metadata": {},
   "source": [
    "##  Frequência para valores qualitativos"
   ]
  },
  {
   "cell_type": "code",
   "execution_count": 22,
   "id": "dce526e3",
   "metadata": {},
   "outputs": [
    {
     "name": "stdout",
     "output_type": "stream",
     "text": [
      "O percentual de homens é: 51.37\n",
      "O percentual de mulheres é: 48.63\n"
     ]
    }
   ],
   "source": [
    "#Frequência dos sexos\n",
    "freq_m = 0\n",
    "freq_f = 0\n",
    "for i in df.Sexo:\n",
    "    if i == \"M\":\n",
    "        freq_m += 1\n",
    "    else:\n",
    "        freq_f += 1\n",
    "print(\"O percentual de homens é:\", round((freq_m/n*100),2))\n",
    "print(\"O percentual de mulheres é:\", round((freq_f/n*100),2))"
   ]
  },
  {
   "cell_type": "code",
   "execution_count": 23,
   "id": "5e4ec32a",
   "metadata": {},
   "outputs": [
    {
     "name": "stdout",
     "output_type": "stream",
     "text": [
      "O percentual de pessoas com problemas cardíacos é: 5.27\n",
      "O percentual de pessoas com tendência a problemas cardiacos é: 32.83\n",
      "O percentual de pessoas sem tendência a problemas cardiacos é: 61.9\n"
     ]
    },
    {
     "data": {
      "text/plain": [
       "(158, 985, 1857)"
      ]
     },
     "execution_count": 23,
     "metadata": {},
     "output_type": "execute_result"
    }
   ],
   "source": [
    "#Frequência tipos de cardíacos\n",
    "freq_s = 0\n",
    "freq_t = 0\n",
    "freq_n = 0\n",
    "\n",
    "for i in df.Cardiaco:\n",
    "    if i == \"S\":\n",
    "        freq_s += 1\n",
    "    else:\n",
    "        if i == \"T\":\n",
    "            freq_t += 1\n",
    "        else:\n",
    "            freq_n += 1\n",
    "print(\"O percentual de pessoas com problemas cardíacos é:\", round((freq_s/n*100),2))\n",
    "print(\"O percentual de pessoas com tendência a problemas cardiacos é:\", round((freq_t/n*100),2))\n",
    "print(\"O percentual de pessoas sem tendência a problemas cardiacos é:\", round((freq_n/n*100),2))\n",
    "freq_s, freq_t, freq_n"
   ]
  },
  {
   "cell_type": "markdown",
   "id": "85108913",
   "metadata": {},
   "source": [
    "## Análise final\n",
    "\n",
    "    População com estatura média normal (1,73) e com peso médio elevado para a altura. IMC médio em nível de pré-obesidade. 51,37% são do sexo masculino enquanto 48.63% é do sexo feminino. Em geral, 5,27% das pessoas possuem problemas cardíacos e 32,83% possuem tendência a problemas cardíacos. Pode-se observar que as pessoas mais baixas, em média, possuem um IMC mais baixo. Maiores análises podem ser feitas para relacionar a média de IMC e de problemas cardíacos categorizado por sexo."
   ]
  }
 ],
 "metadata": {
  "kernelspec": {
   "display_name": "Python 3 (ipykernel)",
   "language": "python",
   "name": "python3"
  },
  "language_info": {
   "codemirror_mode": {
    "name": "ipython",
    "version": 3
   },
   "file_extension": ".py",
   "mimetype": "text/x-python",
   "name": "python",
   "nbconvert_exporter": "python",
   "pygments_lexer": "ipython3",
   "version": "3.11.3"
  }
 },
 "nbformat": 4,
 "nbformat_minor": 5
}
